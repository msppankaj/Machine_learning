{
 "cells": [
  {
   "cell_type": "markdown",
   "id": "4a1bf306",
   "metadata": {},
   "source": [
    "# LinearRegression(Gradient decent method)"
   ]
  },
  {
   "cell_type": "markdown",
   "id": "23dbb1a0",
   "metadata": {},
   "source": [
    "we are familier with the equation y=mx+c, where we used to predict the value of continuous variable(like value of sales,price,cost etc.) we have\n",
    "y=dependent varible i.e predicted value is based on the value of x (input variable)\n",
    "x=independent variable i.e input value that decide output value.\n",
    "m is called slope and c is called intercept"
   ]
  },
  {
   "cell_type": "code",
   "execution_count": 12,
   "id": "84ab0cff",
   "metadata": {},
   "outputs": [],
   "source": [
    "#importing libraries\n",
    "import pandas as pd\n",
    "import numpy as np\n",
    "import matplotlib.pyplot as plt"
   ]
  },
  {
   "cell_type": "code",
   "execution_count": 13,
   "id": "fbb6cfd7",
   "metadata": {},
   "outputs": [],
   "source": [
    "#understanding of simple linearregression:\n",
    "#we have one datasets lets understand.\n",
    "x=np.array([1,3,4,5,7,8,9,11,12,14,15])\n",
    "y=np.array([2,4,5,6,8,9,10,12,13,15,16])"
   ]
  },
  {
   "cell_type": "code",
   "execution_count": 16,
   "id": "10e04ddd",
   "metadata": {},
   "outputs": [
    {
     "data": {
      "text/plain": [
       "array([ 1,  3,  4,  5,  7,  8,  9, 11, 12, 14, 15])"
      ]
     },
     "execution_count": 16,
     "metadata": {},
     "output_type": "execute_result"
    }
   ],
   "source": [
    "x"
   ]
  },
  {
   "cell_type": "code",
   "execution_count": 17,
   "id": "1e13f2a2",
   "metadata": {},
   "outputs": [
    {
     "data": {
      "text/plain": [
       "array([ 2,  4,  5,  6,  8,  9, 10, 12, 13, 15, 16])"
      ]
     },
     "execution_count": 17,
     "metadata": {},
     "output_type": "execute_result"
    }
   ],
   "source": [
    "y"
   ]
  },
  {
   "cell_type": "markdown",
   "id": "fbe8727e",
   "metadata": {},
   "source": [
    "we have ready data for x and y and now have to find the m and c as per formula(y=mx+c)\n",
    "so here we will user gredient decent to find the value of m(slope) and c(intercept)"
   ]
  },
  {
   "cell_type": "code",
   "execution_count": 33,
   "id": "f9ace5f7",
   "metadata": {},
   "outputs": [],
   "source": [
    "#we declare some value like\n",
    "iteration=10000\n",
    "n=float(len(x))\n",
    "m=0\n",
    "c=0\n",
    "lr=0.001\n",
    "#we have y=mx+c so,and have to find the derivitives of m and c so the formula of derivitives is \n",
    "    #D_m = (-2/n) * sum(x * (y - y_pred))\n",
    "    #D_c = (-2/n) * sum(y - y_pred)\n",
    "    #now lets implement the code "
   ]
  },
  {
   "cell_type": "code",
   "execution_count": 34,
   "id": "3b91614f",
   "metadata": {},
   "outputs": [],
   "source": [
    "for i in range(iteration):\n",
    "    y_pred=m*x+c\n",
    "    d_m=(-2/n)*sum(x*(y-y_pred))\n",
    "    d_c=(-2/n)*sum(y-y_pred)\n",
    "    m=m-lr*d_m\n",
    "    c=c-lr*d_c\n",
    "#now gd code is ready to predict the value of m and c"
   ]
  },
  {
   "cell_type": "code",
   "execution_count": 35,
   "id": "2d1a2274",
   "metadata": {},
   "outputs": [
    {
     "name": "stdout",
     "output_type": "stream",
     "text": [
      "1.0009629105832685 0.9899540222403106\n"
     ]
    }
   ],
   "source": [
    "print(m,c)"
   ]
  },
  {
   "cell_type": "code",
   "execution_count": 39,
   "id": "1dcf7d9f",
   "metadata": {},
   "outputs": [
    {
     "data": {
      "text/plain": [
       "42.02943335615432"
      ]
     },
     "execution_count": 39,
     "metadata": {},
     "output_type": "execute_result"
    }
   ],
   "source": [
    "#prediction, when we have 100 iteration it was a big error but when we increase iteration with 10000 gives correct prediction.\n",
    "a=m*41+c\n",
    "a"
   ]
  },
  {
   "cell_type": "code",
   "execution_count": 40,
   "id": "1cd29605",
   "metadata": {},
   "outputs": [],
   "source": [
    "#understanding math and concept of derivitives here.\n",
    "#our lineargression formula is y=mx+c\n",
    "#cost_func we have=1/n*sum(y_actual-y_pred)i.e our error (E)\n"
   ]
  },
  {
   "cell_type": "code",
   "execution_count": 42,
   "id": "9d2cadec",
   "metadata": {},
   "outputs": [
    {
     "data": {
      "image/png": "[encoded data removed]",
      "text/plain": [
       "<Figure size 432x288 with 1 Axes>"
      ]
     },
     "metadata": {
      "needs_background": "light"
     },
     "output_type": "display_data"
    }
   ],
   "source": [
    "#plotings\n",
    "plt.scatter(x, y)\n",
    "plt.show()"
   ]
  },
  {
   "cell_type": "code",
   "execution_count": 43,
   "id": "3b842011",
   "metadata": {},
   "outputs": [
    {
     "data": {
      "image/png": "[encoded data removed]",
      "text/plain": [
       "<Figure size 432x288 with 1 Axes>"
      ]
     },
     "metadata": {
      "needs_background": "light"
     },
     "output_type": "display_data"
    }
   ],
   "source": [
    "# Making predictions\n",
    "Y_pred = m*x + c\n",
    "\n",
    "plt.scatter(x, y) \n",
    "plt.plot([min(x), max(x)], [min(y_pred), max(y_pred)], color='red')  # regression line\n",
    "plt.show()"
   ]
  },
  {
   "cell_type": "code",
   "execution_count": null,
   "id": "7a12a386",
   "metadata": {},
   "outputs": [],
   "source": []
  }
 ],
 "metadata": {
  "kernelspec": {
   "display_name": "Python 3 (ipykernel)",
   "language": "python",
   "name": "python3"
  },
  "language_info": {
   "codemirror_mode": {
    "name": "ipython",
    "version": 3
   },
   "file_extension": ".py",
   "mimetype": "text/x-python",
   "name": "python",
   "nbconvert_exporter": "python",
   "pygments_lexer": "ipython3",
   "version": "3.9.12"
  }
 },
 "nbformat": 4,
 "nbformat_minor": 5
}
