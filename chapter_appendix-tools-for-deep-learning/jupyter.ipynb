{
  "cells": [
    {
      "cell_type": "code",
      "source": [
        "import numpy as np\n",
        "import pandas as pd"
      ],
      "metadata": {
        "id": "ITvj8RQMkegE"
      },
      "id": "ITvj8RQMkegE",
      "execution_count": 1,
      "outputs": []
    },
    {
      "cell_type": "code",
      "source": [
        "list1=[12,18,65,2,5,4,4]\n",
        "list2=['pankaj','kumar','pandey','rahul','deepak']\n",
        "list3=[2,'s',6,5,'2016','aman','suman',2.0]"
      ],
      "metadata": {
        "id": "m4m2ZTKUkeli"
      },
      "id": "m4m2ZTKUkeli",
      "execution_count": 3,
      "outputs": []
    },
    {
      "cell_type": "code",
      "source": [
        "a=np.array(list1)"
      ],
      "metadata": {
        "id": "qhoj7GyskenR"
      },
      "id": "qhoj7GyskenR",
      "execution_count": 4,
      "outputs": []
    },
    {
      "cell_type": "code",
      "source": [
        "a[2]  #this is ordered and changeble and mutable"
      ],
      "metadata": {
        "id": "NcjHZCQpkepL",
        "outputId": "56919e3b-297b-434a-a0c1-0d7f9643bd41",
        "colab": {
          "base_uri": "https://localhost:8080/"
        }
      },
      "id": "NcjHZCQpkepL",
      "execution_count": 6,
      "outputs": [
        {
          "output_type": "execute_result",
          "data": {
            "text/plain": [
              "65"
            ]
          },
          "metadata": {},
          "execution_count": 6
        }
      ]
    },
    {
      "cell_type": "code",
      "source": [
        "#dictionary in python:\n",
        "#dict are mutable and unordereed, fast lookup\n",
        "person={'name':[1,2,3],'age':[2,4,5],'city':['delh','ggn','raj']}"
      ],
      "metadata": {
        "id": "ilnaCkHzkeq2"
      },
      "id": "ilnaCkHzkeq2",
      "execution_count": 8,
      "outputs": []
    },
    {
      "cell_type": "code",
      "source": [
        "method2=dict(name='pankaj',age=40)\n",
        "empty={}\n",
        "tup1=[('name','pankaj'),('age',23)]\n",
        "method3=dict(tup1)"
      ],
      "metadata": {
        "id": "n1StkKISpsRa"
      },
      "id": "n1StkKISpsRa",
      "execution_count": 15,
      "outputs": []
    },
    {
      "cell_type": "code",
      "source": [],
      "metadata": {
        "id": "TKKt9y0KzLL0"
      },
      "id": "TKKt9y0KzLL0",
      "execution_count": null,
      "outputs": []
    },
    {
      "cell_type": "code",
      "source": [
        "#Dictionary is a collection which is ordered** and changeable. No duplicate members.\n",
        "#x = thisdict.get(\"age\")\n",
        "#y = thisdict.keys()\n",
        "#Z= thisdict.items()"
      ],
      "metadata": {
        "id": "aZelvk3vpsh_"
      },
      "id": "aZelvk3vpsh_",
      "execution_count": 17,
      "outputs": []
    },
    {
      "cell_type": "code",
      "source": [
        "thisdict = {\n",
        "  \"brand\": \"Ford\",\n",
        "  \"model\": \"Mustang\",\n",
        "  \"year\": 1964\n",
        "}\n",
        "if \"model\" in thisdict:\n",
        "  print(\"Yes, 'model' is one of the keys in the thisdict dictionary\")"
      ],
      "metadata": {
        "id": "w_aHaKL0pskp",
        "outputId": "e80f0716-9e60-47cb-fe42-ed3f381f690e",
        "colab": {
          "base_uri": "https://localhost:8080/"
        }
      },
      "id": "w_aHaKL0pskp",
      "execution_count": 18,
      "outputs": [
        {
          "output_type": "stream",
          "name": "stdout",
          "text": [
            "Yes, 'model' is one of the keys in the thisdict dictionary\n"
          ]
        }
      ]
    },
    {
      "cell_type": "code",
      "source": [
        "#change item in dict\n",
        "thisdict = {\n",
        "  \"brand\": \"Ford\",\n",
        "  \"model\": \"Mustang\",\n",
        "  \"year\": 1964\n",
        "}\n",
        "thisdict[\"year\"] = 2018"
      ],
      "metadata": {
        "id": "l0XaiU6Rpsn_"
      },
      "id": "l0XaiU6Rpsn_",
      "execution_count": 20,
      "outputs": []
    },
    {
      "cell_type": "code",
      "source": [
        "#update dict\n",
        "thisdict = {\n",
        "  \"brand\": \"Ford\",\n",
        "  \"model\": \"Mustang\",\n",
        "  \"year\": 1964\n",
        "}\n",
        "thisdict.update({\"year\": 2020})"
      ],
      "metadata": {
        "id": "NUMpHJHEVwIz"
      },
      "id": "NUMpHJHEVwIz",
      "execution_count": 21,
      "outputs": []
    },
    {
      "cell_type": "code",
      "source": [
        "#add in dict\n",
        "thisdict = {\n",
        "  \"brand\": \"Ford\",\n",
        "  \"model\": \"Mustang\",\n",
        "  \"year\": 1964\n",
        "}\n",
        "thisdict[\"color\"] = \"red\"\n",
        "print(thisdict)"
      ],
      "metadata": {
        "id": "ffNQ75luVwLW",
        "outputId": "6ba13af6-f2e3-47be-dafc-3c0a2b332764",
        "colab": {
          "base_uri": "https://localhost:8080/"
        }
      },
      "id": "ffNQ75luVwLW",
      "execution_count": 23,
      "outputs": [
        {
          "output_type": "stream",
          "name": "stdout",
          "text": [
            "{'brand': 'Ford', 'model': 'Mustang', 'year': 1964, 'color': 'red'}\n"
          ]
        }
      ]
    },
    {
      "cell_type": "code",
      "source": [
        "#update\n",
        "thisdict = {\n",
        "  \"brand\": \"Ford\",\n",
        "  \"model\": \"Mustang\",\n",
        "  \"year\": 1964\n",
        "}\n",
        "thisdict.update({\"color\": \"red\"})"
      ],
      "metadata": {
        "id": "nCkCsT-HVwOX"
      },
      "id": "nCkCsT-HVwOX",
      "execution_count": 24,
      "outputs": []
    },
    {
      "cell_type": "code",
      "source": [
        "#remove item in dict\n",
        "thisdict = {\n",
        "  \"brand\": \"Ford\",\n",
        "  \"model\": \"Mustang\",\n",
        "  \"year\": 1964\n",
        "}\n",
        "thisdict.pop(\"model\")\n",
        "print(thisdict)"
      ],
      "metadata": {
        "id": "g8j1YEyLVwQk",
        "outputId": "4c7d313e-ec9e-4b9c-d2e0-af5961cd0d0b",
        "colab": {
          "base_uri": "https://localhost:8080/"
        }
      },
      "id": "g8j1YEyLVwQk",
      "execution_count": 25,
      "outputs": [
        {
          "output_type": "stream",
          "name": "stdout",
          "text": [
            "{'brand': 'Ford', 'year': 1964}\n"
          ]
        }
      ]
    },
    {
      "cell_type": "code",
      "source": [
        "thisdict = {\n",
        "  \"brand\": \"Ford\",\n",
        "  \"model\": \"Mustang\",\n",
        "  \"year\": 1964\n",
        "}\n",
        "del thisdict[\"model\"]\n",
        "print(thisdict)"
      ],
      "metadata": {
        "id": "WuDfwvazVwTS",
        "outputId": "2eb45ce6-f497-4e14-9445-a66a70ac4227",
        "colab": {
          "base_uri": "https://localhost:8080/"
        }
      },
      "id": "WuDfwvazVwTS",
      "execution_count": 26,
      "outputs": [
        {
          "output_type": "stream",
          "name": "stdout",
          "text": [
            "{'brand': 'Ford', 'year': 1964}\n"
          ]
        }
      ]
    },
    {
      "cell_type": "code",
      "source": [
        "thisdict = {\n",
        "  \"brand\": \"Ford\",\n",
        "  \"model\": \"Mustang\",\n",
        "  \"year\": 1964\n",
        "}\n",
        "thisdict.clear()\n",
        "print(thisdict)"
      ],
      "metadata": {
        "id": "dpauvRTZVwWy",
        "outputId": "efa13b50-3212-4df3-9adc-38b8c650e3ae",
        "colab": {
          "base_uri": "https://localhost:8080/"
        }
      },
      "id": "dpauvRTZVwWy",
      "execution_count": 27,
      "outputs": [
        {
          "output_type": "stream",
          "name": "stdout",
          "text": [
            "{}\n"
          ]
        }
      ]
    },
    {
      "cell_type": "code",
      "source": [
        "#looping in dict\n",
        "for i in method2:\n",
        "  print(i)"
      ],
      "metadata": {
        "id": "QoxuJCxWYZRG"
      },
      "id": "QoxuJCxWYZRG",
      "execution_count": null,
      "outputs": []
    },
    {
      "cell_type": "code",
      "source": [
        "method2"
      ],
      "metadata": {
        "id": "sxJhmLbMzD4j"
      },
      "id": "sxJhmLbMzD4j",
      "execution_count": null,
      "outputs": []
    },
    {
      "cell_type": "code",
      "source": [
        "for x in thisdict:\n",
        "  print(thisdict[x])"
      ],
      "metadata": {
        "id": "DNlpRbWTYZc4"
      },
      "id": "DNlpRbWTYZc4",
      "execution_count": null,
      "outputs": []
    },
    {
      "cell_type": "code",
      "source": [
        "for x in thisdict.values():\n",
        "  print(x)"
      ],
      "metadata": {
        "id": "a7MNK4MpYZft"
      },
      "id": "a7MNK4MpYZft",
      "execution_count": null,
      "outputs": []
    },
    {
      "cell_type": "code",
      "source": [
        "for x in thisdict.keys():\n",
        "  print(x)"
      ],
      "metadata": {
        "id": "C2HJCZrkYZiY"
      },
      "id": "C2HJCZrkYZiY",
      "execution_count": null,
      "outputs": []
    },
    {
      "cell_type": "code",
      "source": [
        "for x, y in thisdict.items():\n",
        "  print(x, y)"
      ],
      "metadata": {
        "id": "gNS7YPwVYZlq"
      },
      "id": "gNS7YPwVYZlq",
      "execution_count": null,
      "outputs": []
    },
    {
      "cell_type": "code",
      "source": [
        "#copy\n",
        "thisdict = {\n",
        "  \"brand\": \"Ford\",\n",
        "  \"model\": \"Mustang\",\n",
        "  \"year\": 1964\n",
        "}\n",
        "mydict = thisdict.copy()\n",
        "print(mydict)"
      ],
      "metadata": {
        "id": "dFxH4zwUYZny"
      },
      "id": "dFxH4zwUYZny",
      "execution_count": null,
      "outputs": []
    },
    {
      "cell_type": "code",
      "source": [
        "#nested dict\n",
        "car = {\n",
        "  \"mar\" : {\n",
        "    \"name\" : \"deire\",\n",
        "    \"year\" : 2004\n",
        "  },\n",
        "  \"suz\" : {\n",
        "    \"name\" : \"baleno\",\n",
        "    \"year\" : 2007\n",
        "  },\n",
        "  \"bmw\" : {\n",
        "    \"name\" : \"sport\",\n",
        "    \"year\" : 2011\n",
        "  }\n",
        "}"
      ],
      "metadata": {
        "id": "yxDUFV7lYZrN"
      },
      "id": "yxDUFV7lYZrN",
      "execution_count": 2,
      "outputs": []
    },
    {
      "cell_type": "code",
      "source": [
        "print(car[\"mar\"][\"name\"])"
      ],
      "metadata": {
        "id": "WzsN0JTpkesk",
        "outputId": "1d9e06a2-5607-4c39-c9f5-fbfff04bb1b5",
        "colab": {
          "base_uri": "https://localhost:8080/"
        }
      },
      "id": "WzsN0JTpkesk",
      "execution_count": 3,
      "outputs": [
        {
          "output_type": "stream",
          "name": "stdout",
          "text": [
            "deire\n"
          ]
        }
      ]
    },
    {
      "cell_type": "code",
      "source": [
        "for x, obj in car.items():\n",
        "  print(x)\n",
        "\n",
        "  for y in obj:\n",
        "    print(y + ':', obj[y])"
      ],
      "metadata": {
        "id": "-8AaxGkWkev-",
        "outputId": "65615cf0-7aac-4e9b-8d8c-d5e24b0d8393",
        "colab": {
          "base_uri": "https://localhost:8080/"
        }
      },
      "id": "-8AaxGkWkev-",
      "execution_count": 4,
      "outputs": [
        {
          "output_type": "stream",
          "name": "stdout",
          "text": [
            "mar\n",
            "name: deire\n",
            "year: 2004\n",
            "suz\n",
            "name: baleno\n",
            "year: 2007\n",
            "bmw\n",
            "name: sport\n",
            "year: 2011\n"
          ]
        }
      ]
    },
    {
      "cell_type": "code",
      "source": [
        "\n",
        "#Method\tDescription\n",
        "#clear()\tRemoves all the elements from the dictionary\n",
        "#copy()\tReturns a copy of the dictionary\n",
        "#fromkeys()\tReturns a dictionary with the specified keys and value\n",
        "#get()\tReturns the value of the specified key\n",
        "#items()\tReturns a list containing a tuple for each key value pair\n",
        "#keys()\tReturns a list containing the dictionary's keys\n",
        "#pop()\tRemoves the element with the specified key\n",
        "#popitem()\tRemoves the last inserted key-value pair\n",
        "#setdefault()\tReturns the value of the specified key. If the key does not exist: insert the key, with the specified value\n",
        "#update()\tUpdates the dictionary with the specified key-value pairs\n",
        "#values()\tReturns a list of all the values in the dictionary"
      ],
      "metadata": {
        "id": "I4TYjWQDkfEA"
      },
      "id": "I4TYjWQDkfEA",
      "execution_count": 5,
      "outputs": []
    },
    {
      "cell_type": "code",
      "source": [],
      "metadata": {
        "id": "2A62oT3IkfGi"
      },
      "id": "2A62oT3IkfGi",
      "execution_count": null,
      "outputs": []
    },
    {
      "cell_type": "code",
      "source": [],
      "metadata": {
        "id": "lhm7_BPokfJH"
      },
      "id": "lhm7_BPokfJH",
      "execution_count": null,
      "outputs": []
    },
    {
      "cell_type": "code",
      "source": [],
      "metadata": {
        "id": "qMbP20dckfMx"
      },
      "id": "qMbP20dckfMx",
      "execution_count": null,
      "outputs": []
    }
  ],
  "metadata": {
    "kernelspec": {
      "display_name": "Python 3",
      "name": "python3"
    },
    "language_info": {
      "name": "python"
    },
    "required_libs": [],
    "colab": {
      "provenance": [],
      "toc_visible": true
    }
  },
  "nbformat": 4,
  "nbformat_minor": 5
}